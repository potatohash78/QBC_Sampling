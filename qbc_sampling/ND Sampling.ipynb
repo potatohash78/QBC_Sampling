{
 "cells": [
  {
   "cell_type": "code",
   "execution_count": 33,
   "id": "97a53f40",
   "metadata": {},
   "outputs": [],
   "source": [
    "using Surrogates\n",
    "using Plots\n",
    "using Statistics\n",
    "using Random\n",
    "using DataFrames\n",
    "using Distances\n",
    "using LinearAlgebra\n",
    "default()"
   ]
  },
  {
   "cell_type": "code",
   "execution_count": 95,
   "id": "48744eb5",
   "metadata": {},
   "outputs": [
    {
     "data": {
      "text/plain": [
       "50-element Vector{Float64}:\n",
       "  16.614887299231814\n",
       "  66.71434150808243\n",
       " 145.01472282611837\n",
       "  50.379068168663856\n",
       "  45.72674669008426\n",
       " 218.59877093618695\n",
       "  88.33929805974748\n",
       "  31.64730062042864\n",
       "  37.60355111410419\n",
       " 141.98371486579754\n",
       " 146.85835662067186\n",
       "  43.9988868435236\n",
       "  38.084914505299544\n",
       "   ⋮\n",
       "  80.35171582280238\n",
       "  50.983847087634985\n",
       "  40.289796197934024\n",
       "  84.18332252527621\n",
       " 132.0679010627322\n",
       "  78.6406514896613\n",
       "  46.946759319980025\n",
       " 161.65406427158032\n",
       "  52.79670900960365\n",
       "  26.784637013946686\n",
       "  33.81519848960852\n",
       " 115.332266280138"
      ]
     },
     "execution_count": 95,
     "metadata": {},
     "output_type": "execute_result"
    }
   ],
   "source": [
    "# Define the objective waterflow function (8 dimensions)\n",
    "function f(x)\n",
    "    r_w = x[1]\n",
    "    r = x[2]\n",
    "    T_u = x[3]\n",
    "    H_u = x[4]\n",
    "    T_l = x[5]\n",
    "    H_l = x[6]\n",
    "    L = x[7]\n",
    "    K_w = x[8]\n",
    "    log_val = log(r/r_w)\n",
    "    return (2*pi*T_u*(H_u - H_l))/ ( log_val*(1 + (2*L*T_u/(log_val*r_w^2*K_w)) + T_u/T_l))\n",
    "end\n",
    "\n",
    "\n",
    "n = 250\n",
    "initial_n = 50\n",
    "d = 8\n",
    "lb = [0.05,100,63070,990,63.1,700,1120,9855]\n",
    "ub = [0.15,50000,115600,1110,116,820,1680,12045]\n",
    "original_x = sample(initial_n,lb,ub,SobolSample())\n",
    "original_y = f.(original_x)"
   ]
  },
  {
   "cell_type": "code",
   "execution_count": 3,
   "id": "f8898f7c",
   "metadata": {},
   "outputs": [
    {
     "data": {
      "text/plain": [
       "splitdf (generic function with 1 method)"
      ]
     },
     "execution_count": 3,
     "metadata": {},
     "output_type": "execute_result"
    }
   ],
   "source": [
    "function splitdf(df, pct)\n",
    "           @assert 0 <= pct <= 1\n",
    "           ids = collect(axes(df, 1))\n",
    "           shuffle!(ids)\n",
    "           sel = ids .<= nrow(df) .* pct\n",
    "           return DataFrame(view(df, sel, :)), DataFrame(view(df, .!sel, :))\n",
    "       end"
   ]
  },
  {
   "cell_type": "code",
   "execution_count": 24,
   "id": "f4e48629",
   "metadata": {},
   "outputs": [
    {
     "data": {
      "text/plain": [
       "diversity_metric (generic function with 2 methods)"
      ]
     },
     "execution_count": 24,
     "metadata": {},
     "output_type": "execute_result"
    }
   ],
   "source": [
    "# Implementing diversity\n",
    "function calculate_variance(x, models)\n",
    "    predictions = []\n",
    "        for model in models\n",
    "            prediction = model(x)\n",
    "            append!(predictions, prediction)\n",
    "        end\n",
    "    return var(predictions, corrected=false)\n",
    "end\n",
    "\n",
    "function diversity_metric(prev_x, new_x, models, lambda = 0.5, mod)\n",
    "    min_dist = Inf\n",
    "    variance = calculate_variance(new_x, models)\n",
    "    for point in prev_x\n",
    "        new_dist = euclidean(point, new_x)\n",
    "        if new_dist < min_dist\n",
    "            min_dist = new_dist\n",
    "        end\n",
    "    end\n",
    "    return (1 - lambda) * sqrt(variance) + lambda * min_dist\n",
    "end"
   ]
  },
  {
   "cell_type": "code",
   "execution_count": 84,
   "id": "193721a6",
   "metadata": {},
   "outputs": [
    {
     "data": {
      "text/plain": [
       "calculate_error (generic function with 2 methods)"
      ]
     },
     "execution_count": 84,
     "metadata": {},
     "output_type": "execute_result"
    }
   ],
   "source": [
    "function calculate_error(point, models, actual, mode=\"MSE\")\n",
    "    target = actual(point)\n",
    "    errors = []\n",
    "    for model in models\n",
    "        prediction = model(point)\n",
    "        append!(errors, abs(target - prediction))\n",
    "    end\n",
    "    println(errors)\n",
    "    if mode == \"MSE\"\n",
    "        return mean(errors.^2)\n",
    "    end\n",
    "    if mode == \"max\"\n",
    "        return maximum(errors)\n",
    "    end\n",
    "end"
   ]
  },
  {
   "cell_type": "code",
   "execution_count": 96,
   "id": "a59aa384",
   "metadata": {
    "scrolled": true
   },
   "outputs": [
    {
     "name": "stdout",
     "output_type": "stream",
     "text": [
      "3.430964349159185\n",
      "3.4172357247317358\n",
      "3.448074725356175\n",
      "3.442402333571565\n",
      "3.4322257352803573\n",
      "3.430920220617081\n",
      "3.4254715088837715\n",
      "3.4222121777743473\n",
      "3.4283140743535756\n"
     ]
    },
    {
     "ename": "LoadError",
     "evalue": "InterruptException:",
     "output_type": "error",
     "traceback": [
      "InterruptException:",
      "",
      "Stacktrace:",
      "  [1] (::Surrogates.var\"#26#28\"{Int64, Kriging{Vector{Any}, Vector{Float64}, Vector{Float64}, Vector{Float64}, Vector{Float64}, Vector{Float64}, Float64, Matrix{Float64}, Float64, Matrix{Float64}}, NTuple{8, Float64}})(j::Int64)",
      "    @ Surrogates ./none:0",
      "  [2] MappingRF",
      "    @ ./reduce.jl:93 [inlined]",
      "  [3] _foldl_impl(op::Base.MappingRF{Surrogates.var\"#26#28\"{Int64, Kriging{Vector{Any}, Vector{Float64}, Vector{Float64}, Vector{Float64}, Vector{Float64}, Vector{Float64}, Float64, Matrix{Float64}, Float64, Matrix{Float64}}, NTuple{8, Float64}}, Base.BottomRF{typeof(Base.add_sum)}}, init::Base._InitialValue, itr::UnitRange{Int64})",
      "    @ Base ./reduce.jl:62",
      "  [4] foldl_impl",
      "    @ ./reduce.jl:48 [inlined]",
      "  [5] mapfoldl_impl",
      "    @ ./reduce.jl:44 [inlined]",
      "  [6] #mapfoldl#214",
      "    @ ./reduce.jl:160 [inlined]",
      "  [7] mapfoldl",
      "    @ ./reduce.jl:160 [inlined]",
      "  [8] #mapreduce#218",
      "    @ ./reduce.jl:287 [inlined]",
      "  [9] mapreduce",
      "    @ ./reduce.jl:287 [inlined]",
      " [10] #sum#221",
      "    @ ./reduce.jl:501 [inlined]",
      " [11] sum",
      "    @ ./reduce.jl:501 [inlined]",
      " [12] #sum#222",
      "    @ ./reduce.jl:528 [inlined]",
      " [13] sum",
      "    @ ./reduce.jl:528 [inlined]",
      " [14] (::Surrogates.var\"#25#27\"{Kriging{Vector{Any}, Vector{Float64}, Vector{Float64}, Vector{Float64}, Vector{Float64}, Vector{Float64}, Float64, Matrix{Float64}, Float64, Matrix{Float64}}, NTuple{8, Float64}, Int64})(i::Int64)",
      "    @ Surrogates ./none:0",
      " [15] MappingRF",
      "    @ ./reduce.jl:93 [inlined]",
      " [16] _foldl_impl(op::Base.MappingRF{Surrogates.var\"#25#27\"{Kriging{Vector{Any}, Vector{Float64}, Vector{Float64}, Vector{Float64}, Vector{Float64}, Vector{Float64}, Float64, Matrix{Float64}, Float64, Matrix{Float64}}, NTuple{8, Float64}, Int64}, Base.BottomRF{typeof(Base.add_sum)}}, init::Base._InitialValue, itr::UnitRange{Int64})",
      "    @ Base ./reduce.jl:62",
      " [17] foldl_impl(op::Base.MappingRF{Surrogates.var\"#25#27\"{Kriging{Vector{Any}, Vector{Float64}, Vector{Float64}, Vector{Float64}, Vector{Float64}, Vector{Float64}, Float64, Matrix{Float64}, Float64, Matrix{Float64}}, NTuple{8, Float64}, Int64}, Base.BottomRF{typeof(Base.add_sum)}}, nt::Base._InitialValue, itr::UnitRange{Int64})",
      "    @ Base ./reduce.jl:48",
      " [18] mapfoldl_impl(f::typeof(identity), op::typeof(Base.add_sum), nt::Base._InitialValue, itr::Base.Generator{UnitRange{Int64}, Surrogates.var\"#25#27\"{Kriging{Vector{Any}, Vector{Float64}, Vector{Float64}, Vector{Float64}, Vector{Float64}, Vector{Float64}, Float64, Matrix{Float64}, Float64, Matrix{Float64}}, NTuple{8, Float64}, Int64}})",
      "    @ Base ./reduce.jl:44",
      " [19] mapfoldl(f::Function, op::Function, itr::Base.Generator{UnitRange{Int64}, Surrogates.var\"#25#27\"{Kriging{Vector{Any}, Vector{Float64}, Vector{Float64}, Vector{Float64}, Vector{Float64}, Vector{Float64}, Float64, Matrix{Float64}, Float64, Matrix{Float64}}, NTuple{8, Float64}, Int64}}; init::Base._InitialValue)",
      "    @ Base ./reduce.jl:160",
      " [20] mapfoldl",
      "    @ ./reduce.jl:160 [inlined]",
      " [21] mapreduce(f::Function, op::Function, itr::Base.Generator{UnitRange{Int64}, Surrogates.var\"#25#27\"{Kriging{Vector{Any}, Vector{Float64}, Vector{Float64}, Vector{Float64}, Vector{Float64}, Vector{Float64}, Float64, Matrix{Float64}, Float64, Matrix{Float64}}, NTuple{8, Float64}, Int64}}; kw::Base.Iterators.Pairs{Union{}, Union{}, Tuple{}, NamedTuple{(), Tuple{}}})",
      "    @ Base ./reduce.jl:287",
      " [22] mapreduce",
      "    @ ./reduce.jl:287 [inlined]",
      " [23] sum(f::Function, a::Base.Generator{UnitRange{Int64}, Surrogates.var\"#25#27\"{Kriging{Vector{Any}, Vector{Float64}, Vector{Float64}, Vector{Float64}, Vector{Float64}, Vector{Float64}, Float64, Matrix{Float64}, Float64, Matrix{Float64}}, NTuple{8, Float64}, Int64}}; kw::Base.Iterators.Pairs{Union{}, Union{}, Tuple{}, NamedTuple{(), Tuple{}}})",
      "    @ Base ./reduce.jl:501",
      " [24] sum",
      "    @ ./reduce.jl:501 [inlined]",
      " [25] sum(a::Base.Generator{UnitRange{Int64}, Surrogates.var\"#25#27\"{Kriging{Vector{Any}, Vector{Float64}, Vector{Float64}, Vector{Float64}, Vector{Float64}, Vector{Float64}, Float64, Matrix{Float64}, Float64, Matrix{Float64}}, NTuple{8, Float64}, Int64}}; kw::Base.Iterators.Pairs{Union{}, Union{}, Tuple{}, NamedTuple{(), Tuple{}}})",
      "    @ Base ./reduce.jl:528",
      " [26] sum",
      "    @ ./reduce.jl:528 [inlined]",
      " [27] (::Kriging{Vector{Any}, Vector{Float64}, Vector{Float64}, Vector{Float64}, Vector{Float64}, Vector{Float64}, Float64, Matrix{Float64}, Float64, Matrix{Float64}})(val::NTuple{8, Float64})",
      "    @ Surrogates ~/.julia/packages/Surrogates/2i1ON/src/Kriging.jl:25",
      " [28] calculate_variance(x::NTuple{8, Float64}, models::Vector{AbstractSurrogate})",
      "    @ Main ./In[24]:5",
      " [29] diversity_metric(prev_x::Vector{Any}, new_x::NTuple{8, Float64}, models::Vector{AbstractSurrogate}, lambda::Int64)",
      "    @ Main ./In[24]:13",
      " [30] top-level scope",
      "    @ ./In[96]:16",
      " [31] eval",
      "    @ ./boot.jl:360 [inlined]",
      " [32] include_string(mapexpr::typeof(REPL.softscope), mod::Module, code::String, filename::String)",
      "    @ Base ./loading.jl:1116"
     ]
    }
   ],
   "source": [
    "total_samples = 10000\n",
    "prev_points = copy(original_x)\n",
    "y = copy(original_y)\n",
    "train = sample(total_samples, lb, ub, SobolSample())\n",
    "test = sample(200, lb, ub, GoldenSample())\n",
    "y_true = f.(test)\n",
    "error = Inf\n",
    "while error > 2\n",
    "    kriging_surrogate = Kriging(prev_points, y, lb, ub, p=[1.9, 1.9, 1.9, 1.9, 1.9, 1.9, 1.9, 1.9])\n",
    "    my_radial_basis = RadialBasis(prev_points, y, lb, ub)\n",
    "    x = []\n",
    "    max_score = 0\n",
    "    max_index = -1\n",
    "    for j in 1:length(train)\n",
    "        point = train[j]\n",
    "        score = diversity_metric(prev_points, point, [my_radial_basis, kriging_surrogate], 0)\n",
    "        if score > max_score\n",
    "            max_score = score\n",
    "            max_index = j\n",
    "        end\n",
    "    end\n",
    "    append!(x, train[[max_index]])\n",
    "    deleteat!(train, max_index)\n",
    "    prev_points = vcat(prev_points, x)\n",
    "    y = f.(prev_points)\n",
    "    \n",
    "    y_rad = my_radial_basis.(test)\n",
    "    y_krig = kriging_surrogate.(test)\n",
    "    mse_rad = norm(y_true - y_rad, 2)/length(test)\n",
    "    mse_krig = norm(y_true - y_krig, 2)/length(test)\n",
    "    error = (mse_rad + mse_krig) / 2\n",
    "    println(error)\n",
    "end"
   ]
  },
  {
   "cell_type": "code",
   "execution_count": 78,
   "id": "4cd21149",
   "metadata": {},
   "outputs": [
    {
     "data": {
      "text/plain": [
       "81-element Vector{Any}:\n",
       " (0.0546875, 13354.6875, 100005.15625, 1055.625, 70.5390625, 810.625, 1566.25, 11326.40625)\n",
       " (0.10468749999999999, 38304.6875, 73740.15625, 995.625, 96.9890625, 750.625, 1286.25, 10231.40625)\n",
       " (0.1296875, 879.6875, 113137.65625, 1085.625, 110.2140625, 720.625, 1426.25, 10778.90625)\n",
       " (0.0796875, 25829.6875, 86872.65625, 1025.625, 83.7640625, 780.625, 1146.25, 11873.90625)\n",
       " (0.0921875, 7117.1875, 67173.90625, 1040.625, 77.1515625, 795.625, 1496.25, 10505.15625)\n",
       " (0.1421875, 32067.1875, 93438.90625, 1100.625, 103.6015625, 735.625, 1216.25, 11600.15625)\n",
       " (0.1171875, 19592.1875, 80306.40625, 1010.625, 90.3765625, 705.625, 1636.25, 11052.65625)\n",
       " (0.0671875, 44542.1875, 106571.40625, 1070.625, 63.9265625, 765.625, 1356.25, 9957.65625)\n",
       " (0.0734375, 3998.4375, 77023.28125, 1108.125, 100.2953125, 788.125, 1531.25, 10642.03125)\n",
       " (0.12343749999999999, 28948.4375, 103288.28125, 1048.125, 73.8453125, 728.125, 1251.25, 11737.03125)\n",
       " (0.1484375, 16473.4375, 63890.78125, 1078.125, 87.0703125, 758.125, 1671.25, 11189.53125)\n",
       " (0.0984375, 41423.4375, 90155.78125, 1018.125, 113.5203125, 818.125, 1391.25, 10094.53125)\n",
       " (0.0859375, 22710.9375, 109854.53125, 1003.125, 106.9078125, 773.125, 1601.25, 11463.28125)\n",
       " ⋮\n",
       " (0.055957031250000004, 40984.86328125, 83538.232421875, 1061.3671875, 112.02216796875, 723.0859375, 1231.015625, 9968.349609375)\n",
       " (0.139404296875, 40034.619140625, 84025.5712890625, 1072.55859375, 111.066455078125, 788.41796875, 1661.1328125, 11265.4541015625)\n",
       " (0.08251953125, 32408.30078125, 90925.263671875, 1051.9921875, 74.82685546875, 781.2109375, 1642.265625, 11371.318359375)\n",
       " (0.09306640625, 15450.09765625, 64455.068359375, 1100.2734375, 66.76787109375, 809.8046875, 1508.828125, 11499.638671875)\n",
       " (0.07470703125, 25391.11328125, 93387.607421875, 1098.8671875, 88.87841796875, 745.5859375, 1266.015625, 12021.474609375)\n",
       " (0.092919921875, 11770.947265625, 104750.2978515625, 1032.71484375, 65.812158203125, 707.32421875, 1567.0703125, 10966.0400390625)\n",
       " (0.10146484375, 29192.08984375, 76048.603515625, 1025.9765625, 66.87119140625, 788.9453125, 1540.546875, 10605.673828125)\n",
       " (0.09501953125, 1220.80078125, 110624.013671875, 1066.9921875, 68.21435546875, 796.2109375, 1292.265625, 10002.568359375)\n",
       " (0.059130859375000004, 1927.392578125, 113471.0986328125, 1039.51171875, 64.262353515625, 745.52734375, 1480.6640625, 11748.7939453125)\n",
       " (0.11142578125, 2390.33203125, 115138.310546875, 1099.8046875, 97.55732421875, 800.8984375, 1322.890625, 11627.958984375)\n",
       " (0.08916015625, 21297.75390625, 82922.646484375, 1073.0859375, 93.63115234375, 754.4921875, 1591.953125, 10627.060546875)\n",
       " (0.080419921875, 30483.447265625, 98184.0478515625, 1047.71484375, 72.424658203125, 752.32421875, 1357.0703125, 10144.7900390625)"
      ]
     },
     "execution_count": 78,
     "metadata": {},
     "output_type": "execute_result"
    }
   ],
   "source": [
    "prev_points"
   ]
  },
  {
   "cell_type": "code",
   "execution_count": null,
   "id": "947422f5",
   "metadata": {},
   "outputs": [],
   "source": []
  },
  {
   "cell_type": "code",
   "execution_count": 57,
   "id": "6e53ad55",
   "metadata": {},
   "outputs": [
    {
     "name": "stdout",
     "output_type": "stream",
     "text": [
      "(51,)\n"
     ]
    }
   ],
   "source": [
    "println(size(prev_points))"
   ]
  },
  {
   "cell_type": "code",
   "execution_count": 93,
   "id": "0506833c",
   "metadata": {},
   "outputs": [],
   "source": [
    "n_test = 200\n",
    "x_test = sample(n_test,lb,ub,GoldenSample());\n",
    "y_true = f.(x_test);\n",
    "my_rad = RadialBasis(prev_points, y, lb, ub)\n",
    "my_krig = Kriging(prev_points, y, lb, ub, p=[1.9, 1.9, 1.9, 1.9, 1.9, 1.9, 1.9, 1.9])\n",
    "y_rad = my_rad.(x_test)\n",
    "y_krig = my_krig.(x_test);"
   ]
  },
  {
   "cell_type": "code",
   "execution_count": 94,
   "id": "f06eb75c",
   "metadata": {},
   "outputs": [
    {
     "name": "stdout",
     "output_type": "stream",
     "text": [
      "MSE RadialBasis: 3.332413447008887    MSE Kriging: 3.257493137405216    "
     ]
    }
   ],
   "source": [
    "mse_rad = norm(y_true - y_rad,2)/n_test\n",
    "mse_krig = norm(y_true - y_krig,2)/n_test\n",
    "print(\"MSE RadialBasis: $mse_rad    \")\n",
    "print(\"MSE Kriging: $mse_krig    \")"
   ]
  }
 ],
 "metadata": {
  "kernelspec": {
   "display_name": "Julia 1.6.2",
   "language": "julia",
   "name": "julia-1.6"
  },
  "language_info": {
   "file_extension": ".jl",
   "mimetype": "application/julia",
   "name": "julia",
   "version": "1.6.2"
  }
 },
 "nbformat": 4,
 "nbformat_minor": 5
}
